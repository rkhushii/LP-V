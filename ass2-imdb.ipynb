{
 "cells": [
  {
   "cell_type": "code",
   "execution_count": 1,
   "id": "5437ec4b-6674-4816-bdb5-3e14e008ca4e",
   "metadata": {},
   "outputs": [],
   "source": [
    "import tensorflow as tf\n",
    "from tensorflow.keras.models import Sequential\n",
    "from tensorflow.keras.layers import Dense, Embedding, Flatten\n",
    "from tensorflow.keras.datasets import imdb\n",
    "from tensorflow.keras.preprocessing.sequence import pad_sequences\n",
    "\n",
    "\n",
    "\n"
   ]
  },
  {
   "cell_type": "code",
   "execution_count": 2,
   "id": "7db152e4-b277-49c0-9b1c-a49be3caab6e",
   "metadata": {},
   "outputs": [
    {
     "name": "stdout",
     "output_type": "stream",
     "text": [
      "Downloading data from https://storage.googleapis.com/tensorflow/tf-keras-datasets/imdb.npz\n",
      "\u001b[1m17464789/17464789\u001b[0m \u001b[32m━━━━━━━━━━━━━━━━━━━━\u001b[0m\u001b[37m\u001b[0m \u001b[1m4s\u001b[0m 0us/step\n"
     ]
    }
   ],
   "source": [
    "\n",
    "# Load the IMDB dataset\n",
    "max_features = 10000  # Number of words to consider as features\n",
    "maxlen = 200          # Limit the review length to 200 words\n",
    "\n",
    "(X_train, y_train), (X_test, y_test) = imdb.load_data(num_words=max_features)"
   ]
  },
  {
   "cell_type": "code",
   "execution_count": 3,
   "id": "b295e8d1-be68-4141-baf5-117c3ec65c8c",
   "metadata": {},
   "outputs": [],
   "source": [
    "# Pad sequences to ensure uniform input size\n",
    "X_train = pad_sequences(X_train, maxlen=maxlen)\n",
    "X_test = pad_sequences(X_test, maxlen=maxlen)\n",
    "\n",
    "\n"
   ]
  },
  {
   "cell_type": "code",
   "execution_count": 15,
   "id": "3946ac47-1adb-4c3e-b59b-77976def2c21",
   "metadata": {},
   "outputs": [
    {
     "name": "stderr",
     "output_type": "stream",
     "text": [
      "C:\\Users\\Anushka\\AppData\\Local\\Programs\\Python\\Python310\\lib\\site-packages\\keras\\src\\layers\\core\\embedding.py:90: UserWarning: Argument `input_length` is deprecated. Just remove it.\n",
      "  warnings.warn(\n"
     ]
    }
   ],
   "source": [
    "# Build a simple DNN model\n",
    "model = Sequential([\n",
    "    Embedding(input_dim=max_features, output_dim=128, input_length=maxlen),\n",
    "    Flatten(),\n",
    "    Dense(64, activation='relu'),\n",
    "    Dense(64, activation='relu'),\n",
    "    Dense(1, activation='sigmoid')\n",
    "])\n"
   ]
  },
  {
   "cell_type": "code",
   "execution_count": 16,
   "id": "54d5f15e-197e-42ab-a939-db2206c7bfff",
   "metadata": {},
   "outputs": [],
   "source": [
    "# Compile the model\n",
    "model.compile(optimizer='adam', loss='binary_crossentropy', metrics=['accuracy'])\n",
    "\n"
   ]
  },
  {
   "cell_type": "code",
   "execution_count": 17,
   "id": "5889b357-1fbb-4c1f-ba8d-6bd69d5b8596",
   "metadata": {},
   "outputs": [
    {
     "name": "stdout",
     "output_type": "stream",
     "text": [
      "Epoch 1/5\n",
      "\u001b[1m782/782\u001b[0m \u001b[32m━━━━━━━━━━━━━━━━━━━━\u001b[0m\u001b[37m\u001b[0m \u001b[1m17s\u001b[0m 21ms/step - accuracy: 0.7131 - loss: 0.5168 - val_accuracy: 0.8612 - val_loss: 0.3191\n",
      "Epoch 2/5\n",
      "\u001b[1m782/782\u001b[0m \u001b[32m━━━━━━━━━━━━━━━━━━━━\u001b[0m\u001b[37m\u001b[0m \u001b[1m17s\u001b[0m 21ms/step - accuracy: 0.9736 - loss: 0.0803 - val_accuracy: 0.8424 - val_loss: 0.4604\n",
      "Epoch 3/5\n",
      "\u001b[1m782/782\u001b[0m \u001b[32m━━━━━━━━━━━━━━━━━━━━\u001b[0m\u001b[37m\u001b[0m \u001b[1m16s\u001b[0m 21ms/step - accuracy: 0.9966 - loss: 0.0110 - val_accuracy: 0.8417 - val_loss: 0.6954\n",
      "Epoch 4/5\n",
      "\u001b[1m782/782\u001b[0m \u001b[32m━━━━━━━━━━━━━━━━━━━━\u001b[0m\u001b[37m\u001b[0m \u001b[1m16s\u001b[0m 21ms/step - accuracy: 0.9946 - loss: 0.0154 - val_accuracy: 0.8336 - val_loss: 0.7902\n",
      "Epoch 5/5\n",
      "\u001b[1m782/782\u001b[0m \u001b[32m━━━━━━━━━━━━━━━━━━━━\u001b[0m\u001b[37m\u001b[0m \u001b[1m16s\u001b[0m 20ms/step - accuracy: 0.9968 - loss: 0.0094 - val_accuracy: 0.8352 - val_loss: 0.8518\n"
     ]
    },
    {
     "data": {
      "text/plain": [
       "<keras.src.callbacks.history.History at 0x1eb6cd8b790>"
      ]
     },
     "execution_count": 17,
     "metadata": {},
     "output_type": "execute_result"
    }
   ],
   "source": [
    "\n",
    "# Train the model\n",
    "model.fit(X_train, y_train, epochs=5, batch_size=32, validation_data=(X_test, y_test))\n"
   ]
  },
  {
   "cell_type": "code",
   "execution_count": 13,
   "id": "9d8165be-ef1b-4167-b300-06d0ff8741c3",
   "metadata": {},
   "outputs": [
    {
     "name": "stdout",
     "output_type": "stream",
     "text": [
      "\u001b[1m782/782\u001b[0m \u001b[32m━━━━━━━━━━━━━━━━━━━━\u001b[0m\u001b[37m\u001b[0m \u001b[1m2s\u001b[0m 3ms/step - accuracy: 0.8249 - loss: 1.0939\n",
      "Test accuracy: 82.74%\n"
     ]
    }
   ],
   "source": [
    "# Evaluate the model\n",
    "score, accuracy = model.evaluate(X_test, y_test)\n",
    "print(f\"Test accuracy: {accuracy*100:.2f}%\")"
   ]
  },
  {
   "cell_type": "code",
   "execution_count": 26,
   "id": "ae8059ff-bf80-40b9-9d52-5aa0aeb1194b",
   "metadata": {},
   "outputs": [
    {
     "name": "stdout",
     "output_type": "stream",
     "text": [
      "\u001b[1m1/1\u001b[0m \u001b[32m━━━━━━━━━━━━━━━━━━━━\u001b[0m\u001b[37m\u001b[0m \u001b[1m0s\u001b[0m 23ms/step\n",
      "Review: The movie was amazing with great acting and plot.\n",
      "[1, 4, 20, 16, 480, 19, 87, 116, 5, 2]\n",
      "Prediction score: 0.9790\n",
      "Predicted Sentiment: Positive 😊\n",
      "\u001b[1m1/1\u001b[0m \u001b[32m━━━━━━━━━━━━━━━━━━━━\u001b[0m\u001b[37m\u001b[0m \u001b[1m0s\u001b[0m 28ms/step\n",
      "Review: I loved it !\n",
      "[1, 13, 447, 12, 2]\n",
      "Prediction score: 0.8052\n",
      "Predicted Sentiment: Positive 😊\n"
     ]
    }
   ],
   "source": [
    "# Load word index\n",
    "word_index = imdb.get_word_index()\n",
    "\n",
    "# Reverse word index\n",
    "word_to_id = {k: (v + 3) for k, v in word_index.items()}\n",
    "\n",
    "id_to_word = {value: key for key, value in word_to_id.items()}\n",
    "\n",
    "# Simple tokenizer\n",
    "def encode_review(text):\n",
    "    tokens = text.lower().split()\n",
    "    encoded = [1]  # start token\n",
    "    for word in tokens:\n",
    "        encoded.append(word_to_id.get(word,2))  # unknown token\n",
    "    return encoded\n",
    "\n",
    "# --- 🔮 Predict on custom input ---\n",
    "def predict_review_sentiment(review_text):\n",
    "    encoded = encode_review(review_text)\n",
    "    padded = pad_sequences([encoded], maxlen=maxlen)\n",
    "    prediction = model.predict(padded)[0][0]\n",
    "    \n",
    "    sentiment = \"Positive 😊\" if prediction >= 0.5 else \"Negative 😞\"\n",
    "    print(f\"Review: {review_text}\")\n",
    "    print(encoded)\n",
    "    print(f\"Prediction score: {prediction:.4f}\")\n",
    "    print(f\"Predicted Sentiment: {sentiment}\")\n",
    "\n",
    "# --- ✨ Example ---\n",
    "predict_review_sentiment(\"The movie was amazing with great acting and plot.\")\n",
    "predict_review_sentiment(\"I loved it !\")"
   ]
  }
 ],
 "metadata": {
  "kernelspec": {
   "display_name": "Python 3 (ipykernel)",
   "language": "python",
   "name": "python3"
  },
  "language_info": {
   "codemirror_mode": {
    "name": "ipython",
    "version": 3
   },
   "file_extension": ".py",
   "mimetype": "text/x-python",
   "name": "python",
   "nbconvert_exporter": "python",
   "pygments_lexer": "ipython3",
   "version": "3.10.11"
  }
 },
 "nbformat": 4,
 "nbformat_minor": 5
}
